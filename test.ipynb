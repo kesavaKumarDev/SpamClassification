{
 "cells": [
  {
   "cell_type": "code",
   "execution_count": 1,
   "metadata": {},
   "outputs": [],
   "source": [
    "import os\n",
    "from google.auth.transport.requests import Request\n",
    "from google.oauth2.credentials import Credentials\n",
    "from google_auth_oauthlib.flow import InstalledAppFlow\n",
    "from googleapiclient.discovery import build\n",
    "\n",
    "# Define the scope for modifying emails\n",
    "SCOPES = ['https://www.googleapis.com/auth/gmail.modify']\n",
    "\n",
    "def authenticate_gmail():\n",
    "    creds = None\n",
    "    # Load credentials from file if they exist\n",
    "    if os.path.exists('token.json'):\n",
    "        creds = Credentials.from_authorized_user_file('token.json', SCOPES)\n",
    "    # If no valid credentials, let the user log in\n",
    "    if not creds or not creds.valid:\n",
    "        if creds and creds.expired and creds.refresh_token:\n",
    "            creds.refresh(Request())\n",
    "        else:\n",
    "            flow = InstalledAppFlow.from_client_secrets_file(\n",
    "                'credentials.json', SCOPES)\n",
    "            creds = flow.run_local_server(port=0)\n",
    "        # Save the credentials for future use\n",
    "        with open('token.json', 'w') as token:\n",
    "            token.write(creds.to_json())\n",
    "\n",
    "    return build('gmail', 'v1', credentials=creds)\n",
    "\n",
    "service = authenticate_gmail()\n"
   ]
  },
  {
   "cell_type": "code",
   "execution_count": 2,
   "metadata": {},
   "outputs": [],
   "source": [
    "import joblib\n",
    "import re\n",
    "from sklearn.feature_extraction.text import TfidfVectorizer\n",
    "\n",
    "# Load the trained model\n",
    "model = joblib.load('model.pkl')\n",
    "\n",
    "# Load the same vectorizer used during training\n",
    "vectorizer = joblib.load('tfidf_vectorizer.pkl')  # Example if using Tfidf"
   ]
  },
  {
   "cell_type": "code",
   "execution_count": 4,
   "metadata": {},
   "outputs": [],
   "source": [
    "def get_unread_emails(service):\n",
    "    results = service.users().messages().list(userId='me', labelIds=['INBOX'], q=\"is:unread\").execute()\n",
    "    messages = results.get('messages', [])\n",
    "    return messages\n",
    "\n",
    "def get_email_content(service, message_id):\n",
    "    message = service.users().messages().get(userId='me', id=message_id, format='full').execute()\n",
    "    content = ''\n",
    "    if 'payload' in message and 'parts' in message['payload']:\n",
    "        for part in message['payload']['parts']:\n",
    "            if part['mimeType'] == 'text/plain':\n",
    "                content = part['body']['data']\n",
    "    return content\n"
   ]
  },
  {
   "cell_type": "code",
   "execution_count": 5,
   "metadata": {},
   "outputs": [],
   "source": [
    "def preprocess_content(content):\n",
    "    # Example preprocessing steps\n",
    "    content = re.sub(r'\\W', ' ', content)  # Remove special characters\n",
    "    content = content.lower()  # Convert to lowercase\n",
    "    return content"
   ]
  },
  {
   "cell_type": "code",
   "execution_count": 6,
   "metadata": {},
   "outputs": [],
   "source": [
    "def classify_email(content):\n",
    "    # Preprocess the email content\n",
    "    processed_content = preprocess_content(content)\n",
    "    \n",
    "    # Convert content to vector (if using a vectorizer like Tfidf)\n",
    "    content_vector = vectorizer.transform([processed_content])\n",
    "    \n",
    "    # Predict using the trained model\n",
    "    prediction = model.predict(content_vector)\n",
    "    \n",
    "    # Map the boolean prediction to \"Spam\" or \"Ham\"\n",
    "    if prediction[0]:\n",
    "        return \"Spam\"\n",
    "    else:\n",
    "        return \"Ham\""
   ]
  },
  {
   "cell_type": "code",
   "execution_count": 7,
   "metadata": {},
   "outputs": [],
   "source": [
    "def update_email_label(service, message_id, label):\n",
    "    if label == \"Spam\":\n",
    "        label_id = 'SPAM'\n",
    "    else:\n",
    "        label_id = 'INBOX'  # Keep it in Inbox or add a custom label\n",
    "    service.users().messages().modify(\n",
    "        userId='me', id=message_id, body={'addLabelIds': [label_id]}).execute()\n"
   ]
  },
  {
   "cell_type": "code",
   "execution_count": 8,
   "metadata": {},
   "outputs": [],
   "source": [
    "import schedule\n",
    "import time"
   ]
  },
  {
   "cell_type": "code",
   "execution_count": 9,
   "metadata": {},
   "outputs": [],
   "source": [
    "def check_and_classify_emails():\n",
    "    service = authenticate_gmail()\n",
    "    emails = get_unread_emails(service)\n",
    "    for email in emails:\n",
    "        email_content = get_email_content(service, email['id'])\n",
    "        label = classify_email(email_content)\n",
    "        update_email_label(service, email['id'], label)"
   ]
  },
  {
   "cell_type": "code",
   "execution_count": 10,
   "metadata": {},
   "outputs": [
    {
     "data": {
      "text/plain": [
       "Every 10 minutes do check_and_classify_emails() (last run: [never], next run: 2024-08-24 23:35:48)"
      ]
     },
     "execution_count": 10,
     "metadata": {},
     "output_type": "execute_result"
    }
   ],
   "source": [
    "# Run this function every 10 minutes\n",
    "schedule.every(10).minutes.do(check_and_classify_emails)"
   ]
  },
  {
   "cell_type": "code",
   "execution_count": 23,
   "metadata": {},
   "outputs": [
    {
     "name": "stdout",
     "output_type": "stream",
     "text": [
      "The email is classified as: Spam\n"
     ]
    }
   ],
   "source": [
    "# Example usage\n",
    "email_content = \"Hi, I wanted to check in about our meeting tomorrow. Let me know if the time is still good for you.\"\n",
    "label = classify_email(email_content)\n",
    "print(f\"The email is classified as: {label}\")\n"
   ]
  },
  {
   "cell_type": "code",
   "execution_count": null,
   "metadata": {},
   "outputs": [],
   "source": [
    "# to check manually for an unread to be classified to spam or ham\n",
    "check_and_classify_emails()"
   ]
  },
  {
   "cell_type": "code",
   "execution_count": null,
   "metadata": {},
   "outputs": [],
   "source": [
    "# if we want to sense the \n",
    "while True:\n",
    "    schedule.run_pending()\n",
    "    time.sleep(1)"
   ]
  }
 ],
 "metadata": {
  "kernelspec": {
   "display_name": "Python 3",
   "language": "python",
   "name": "python3"
  },
  "language_info": {
   "codemirror_mode": {
    "name": "ipython",
    "version": 3
   },
   "file_extension": ".py",
   "mimetype": "text/x-python",
   "name": "python",
   "nbconvert_exporter": "python",
   "pygments_lexer": "ipython3",
   "version": "3.10.14"
  }
 },
 "nbformat": 4,
 "nbformat_minor": 2
}
